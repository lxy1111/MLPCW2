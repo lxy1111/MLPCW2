{
 "cells": [
  {
   "cell_type": "code",
   "execution_count": 13,
   "metadata": {},
   "outputs": [
    {
     "name": "stdout",
     "output_type": "stream",
     "text": [
      "torch.Size([32, 32, 7, 7])\n",
      "Pass\n"
     ]
    }
   ],
   "source": [
    "from model_architectures import ConvolutionalProcessingWithBatchNormBlock\n",
    "from model_architectures import ConvolutionalDimensionalityReductionWithBatchNormBlock\n",
    "import torch\n",
    "import torch.nn as nn\n",
    "import torch.nn.functional as F\n",
    "\n",
    "\n",
    "\n",
    "def test_ConvolutionalProcessingWithBatchNormBlock():\n",
    "    \n",
    "    test=ConvolutionalProcessingWithBatchNormBlock(num_filters = 32, kernel_size = 3 ,\n",
    "                                                   input_shape = (32,32,3,3), padding = 2,\n",
    "                                                   bias = False, dilation = 1)\n",
    "   \n",
    "    try:\n",
    "        x = torch.zeros((32,32,3,3))\n",
    "        test.forward(x)\n",
    "    except Error:\n",
    "        print(\"Error\")\n",
    "    else:\n",
    "        print(\"Pass\")\n",
    "    \n",
    "\n",
    "test_ConvolutionalProcessingWithBatchNormBlock()"
   ]
  },
  {
   "cell_type": "code",
   "execution_count": 14,
   "metadata": {},
   "outputs": [
    {
     "name": "stdout",
     "output_type": "stream",
     "text": [
      "torch.Size([32, 32, 4, 4])\n",
      "Pass\n"
     ]
    }
   ],
   "source": [
    "from model_architectures import ConvolutionalProcessingWithBatchNormBlock\n",
    "from model_architectures import ConvolutionalDimensionalityReductionWithBatchNormBlock\n",
    "import torch\n",
    "import torch.nn as nn\n",
    "import torch.nn.functional as F\n",
    "\n",
    "\n",
    "\n",
    "def test_ConvolutionalDimensionalityReductionWithBatchNormBlock():\n",
    "    \n",
    "    test=ConvolutionalDimensionalityReductionWithBatchNormBlock(num_filters = 32, kernel_size = 3 ,\n",
    "                                                   input_shape = (32,32,3,3), padding = 2,\n",
    "                                                   bias = False, dilation = 1,reduction_factor=2)\n",
    "   \n",
    "    try:\n",
    "        x = torch.zeros((32,32,3,3))\n",
    "        test.forward(x)\n",
    "    except Error:\n",
    "        print(\"Error\")\n",
    "    else:\n",
    "        print(\"Pass\")\n",
    "    \n",
    "\n",
    "test_ConvolutionalDimensionalityReductionWithBatchNormBlock()"
   ]
  },
  {
   "cell_type": "code",
   "execution_count": null,
   "metadata": {},
   "outputs": [],
   "source": []
  }
 ],
 "metadata": {
  "kernelspec": {
   "display_name": "Python 3",
   "language": "python",
   "name": "python3"
  },
  "language_info": {
   "codemirror_mode": {
    "name": "ipython",
    "version": 3
   },
   "file_extension": ".py",
   "mimetype": "text/x-python",
   "name": "python",
   "nbconvert_exporter": "python",
   "pygments_lexer": "ipython3",
   "version": "3.8.5"
  }
 },
 "nbformat": 4,
 "nbformat_minor": 4
}
